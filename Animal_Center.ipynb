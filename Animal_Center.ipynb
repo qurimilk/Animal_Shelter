{
 "cells": [
  {
   "cell_type": "code",
   "execution_count": 1,
   "metadata": {},
   "outputs": [],
   "source": [
    "import pandas as pd\n",
    "import numpy as np\n",
    "from datetime import datetime as dt\n",
    "from datetime import timedelta\n",
    "import time\n",
    "import matplotlib.pyplot as plt"
   ]
  },
  {
   "cell_type": "markdown",
   "metadata": {},
   "source": [
    "Animal Center Intakes from Oct, 1st 2013 to present. Intakes represent the status of animals as they arrive at the Animal Center. All animals receive a unique Animal ID during intake. Annually over 90% of animals entering the center, are adopted, transferred to rescue or returned to their owners.\n",
    "\n",
    "Link: https://data.austintexas.gov/Health-and-Community-Services/Austin-Animal-Center-Intakes/wter-evkm"
   ]
  },
  {
   "cell_type": "code",
   "execution_count": 2,
   "metadata": {},
   "outputs": [
    {
     "data": {
      "text/html": [
       "<div>\n",
       "<style scoped>\n",
       "    .dataframe tbody tr th:only-of-type {\n",
       "        vertical-align: middle;\n",
       "    }\n",
       "\n",
       "    .dataframe tbody tr th {\n",
       "        vertical-align: top;\n",
       "    }\n",
       "\n",
       "    .dataframe thead th {\n",
       "        text-align: right;\n",
       "    }\n",
       "</style>\n",
       "<table border=\"1\" class=\"dataframe\">\n",
       "  <thead>\n",
       "    <tr style=\"text-align: right;\">\n",
       "      <th></th>\n",
       "      <th>Animal ID</th>\n",
       "      <th>Name</th>\n",
       "      <th>DateTime</th>\n",
       "      <th>MonthYear</th>\n",
       "      <th>Found Location</th>\n",
       "      <th>Intake Type</th>\n",
       "      <th>Intake Condition</th>\n",
       "      <th>Animal Type</th>\n",
       "      <th>Sex upon Intake</th>\n",
       "      <th>Age upon Intake</th>\n",
       "      <th>Breed</th>\n",
       "      <th>Color</th>\n",
       "    </tr>\n",
       "  </thead>\n",
       "  <tbody>\n",
       "    <tr>\n",
       "      <th>0</th>\n",
       "      <td>A794208</td>\n",
       "      <td>NaN</td>\n",
       "      <td>05/04/2019 07:20:00 PM</td>\n",
       "      <td>05/04/2019 07:20:00 PM</td>\n",
       "      <td>13021 Dessau Road in Austin (TX)</td>\n",
       "      <td>Stray</td>\n",
       "      <td>Normal</td>\n",
       "      <td>Cat</td>\n",
       "      <td>Unknown</td>\n",
       "      <td>1 year</td>\n",
       "      <td>Domestic Shorthair Mix</td>\n",
       "      <td>Black</td>\n",
       "    </tr>\n",
       "    <tr>\n",
       "      <th>1</th>\n",
       "      <td>A794209</td>\n",
       "      <td>NaN</td>\n",
       "      <td>05/04/2019 07:20:00 PM</td>\n",
       "      <td>05/04/2019 07:20:00 PM</td>\n",
       "      <td>13021 Dessau Road in Austin (TX)</td>\n",
       "      <td>Stray</td>\n",
       "      <td>Normal</td>\n",
       "      <td>Cat</td>\n",
       "      <td>Unknown</td>\n",
       "      <td>1 year</td>\n",
       "      <td>Domestic Shorthair Mix</td>\n",
       "      <td>Orange</td>\n",
       "    </tr>\n",
       "    <tr>\n",
       "      <th>2</th>\n",
       "      <td>A794206</td>\n",
       "      <td>NaN</td>\n",
       "      <td>05/04/2019 07:02:00 PM</td>\n",
       "      <td>05/04/2019 07:02:00 PM</td>\n",
       "      <td>4611 Mellow Hollow in Austin (TX)</td>\n",
       "      <td>Stray</td>\n",
       "      <td>Normal</td>\n",
       "      <td>Dog</td>\n",
       "      <td>Intact Female</td>\n",
       "      <td>2 years</td>\n",
       "      <td>Pit Bull Mix</td>\n",
       "      <td>Chocolate/White</td>\n",
       "    </tr>\n",
       "    <tr>\n",
       "      <th>3</th>\n",
       "      <td>A794207</td>\n",
       "      <td>NaN</td>\n",
       "      <td>05/04/2019 06:56:00 PM</td>\n",
       "      <td>05/04/2019 06:56:00 PM</td>\n",
       "      <td>2025 East 7Th Street in Austin (TX)</td>\n",
       "      <td>Stray</td>\n",
       "      <td>Normal</td>\n",
       "      <td>Cat</td>\n",
       "      <td>Unknown</td>\n",
       "      <td>1 year</td>\n",
       "      <td>Domestic Shorthair Mix</td>\n",
       "      <td>White/Lynx Point</td>\n",
       "    </tr>\n",
       "    <tr>\n",
       "      <th>4</th>\n",
       "      <td>A794205</td>\n",
       "      <td>Neala</td>\n",
       "      <td>05/04/2019 06:33:00 PM</td>\n",
       "      <td>05/04/2019 06:33:00 PM</td>\n",
       "      <td>5617 Victory Gallop Drive in Austin (TX)</td>\n",
       "      <td>Stray</td>\n",
       "      <td>Normal</td>\n",
       "      <td>Dog</td>\n",
       "      <td>Unknown</td>\n",
       "      <td>2 years</td>\n",
       "      <td>Great Dane</td>\n",
       "      <td>Black/Gray</td>\n",
       "    </tr>\n",
       "  </tbody>\n",
       "</table>\n",
       "</div>"
      ],
      "text/plain": [
       "  Animal ID   Name                DateTime               MonthYear  \\\n",
       "0   A794208    NaN  05/04/2019 07:20:00 PM  05/04/2019 07:20:00 PM   \n",
       "1   A794209    NaN  05/04/2019 07:20:00 PM  05/04/2019 07:20:00 PM   \n",
       "2   A794206    NaN  05/04/2019 07:02:00 PM  05/04/2019 07:02:00 PM   \n",
       "3   A794207    NaN  05/04/2019 06:56:00 PM  05/04/2019 06:56:00 PM   \n",
       "4   A794205  Neala  05/04/2019 06:33:00 PM  05/04/2019 06:33:00 PM   \n",
       "\n",
       "                             Found Location Intake Type Intake Condition  \\\n",
       "0          13021 Dessau Road in Austin (TX)       Stray           Normal   \n",
       "1          13021 Dessau Road in Austin (TX)       Stray           Normal   \n",
       "2         4611 Mellow Hollow in Austin (TX)       Stray           Normal   \n",
       "3       2025 East 7Th Street in Austin (TX)       Stray           Normal   \n",
       "4  5617 Victory Gallop Drive in Austin (TX)       Stray           Normal   \n",
       "\n",
       "  Animal Type Sex upon Intake Age upon Intake                   Breed  \\\n",
       "0         Cat         Unknown          1 year  Domestic Shorthair Mix   \n",
       "1         Cat         Unknown          1 year  Domestic Shorthair Mix   \n",
       "2         Dog   Intact Female         2 years            Pit Bull Mix   \n",
       "3         Cat         Unknown          1 year  Domestic Shorthair Mix   \n",
       "4         Dog         Unknown         2 years              Great Dane   \n",
       "\n",
       "              Color  \n",
       "0             Black  \n",
       "1            Orange  \n",
       "2   Chocolate/White  \n",
       "3  White/Lynx Point  \n",
       "4        Black/Gray  "
      ]
     },
     "execution_count": 2,
     "metadata": {},
     "output_type": "execute_result"
    }
   ],
   "source": [
    "df_i = pd.read_csv('Austin_Animal_Center_Intakes.csv') #Intakes\n",
    "df_i.head()"
   ]
  },
  {
   "cell_type": "markdown",
   "metadata": {},
   "source": [
    "Animal Center Outcomes from Oct, 1st 2013 to present. Outcomes represent the status of animals as they leave the Animal Center. All animals receive a unique Animal ID during intake. Annually over 90% of animals entering the center, are adopted, transferred to rescue or returned to their owners. The Outcomes data set reflects that Austin, TX. is the largest \"No Kill\" city in the country... \n",
    "\n",
    "Link: https://data.austintexas.gov/Health-and-Community-Services/Austin-Animal-Center-Outcomes/9t4d-g238"
   ]
  },
  {
   "cell_type": "code",
   "execution_count": 3,
   "metadata": {},
   "outputs": [
    {
     "data": {
      "text/html": [
       "<div>\n",
       "<style scoped>\n",
       "    .dataframe tbody tr th:only-of-type {\n",
       "        vertical-align: middle;\n",
       "    }\n",
       "\n",
       "    .dataframe tbody tr th {\n",
       "        vertical-align: top;\n",
       "    }\n",
       "\n",
       "    .dataframe thead th {\n",
       "        text-align: right;\n",
       "    }\n",
       "</style>\n",
       "<table border=\"1\" class=\"dataframe\">\n",
       "  <thead>\n",
       "    <tr style=\"text-align: right;\">\n",
       "      <th></th>\n",
       "      <th>Animal ID</th>\n",
       "      <th>Name</th>\n",
       "      <th>DateTime</th>\n",
       "      <th>MonthYear</th>\n",
       "      <th>Date of Birth</th>\n",
       "      <th>Outcome Type</th>\n",
       "      <th>Outcome Subtype</th>\n",
       "      <th>Animal Type</th>\n",
       "      <th>Sex upon Outcome</th>\n",
       "      <th>Age upon Outcome</th>\n",
       "      <th>Breed</th>\n",
       "      <th>Color</th>\n",
       "    </tr>\n",
       "  </thead>\n",
       "  <tbody>\n",
       "    <tr>\n",
       "      <th>0</th>\n",
       "      <td>A793602</td>\n",
       "      <td>NaN</td>\n",
       "      <td>05/04/2019 07:16:00 PM</td>\n",
       "      <td>05/04/2019 07:16:00 PM</td>\n",
       "      <td>04/27/2018</td>\n",
       "      <td>Adoption</td>\n",
       "      <td>NaN</td>\n",
       "      <td>Dog</td>\n",
       "      <td>Neutered Male</td>\n",
       "      <td>1 year</td>\n",
       "      <td>Chihuahua Shorthair Mix</td>\n",
       "      <td>Cream</td>\n",
       "    </tr>\n",
       "    <tr>\n",
       "      <th>1</th>\n",
       "      <td>A794180</td>\n",
       "      <td>NaN</td>\n",
       "      <td>05/04/2019 06:27:00 PM</td>\n",
       "      <td>05/04/2019 06:27:00 PM</td>\n",
       "      <td>11/04/2018</td>\n",
       "      <td>Transfer</td>\n",
       "      <td>Partner</td>\n",
       "      <td>Other</td>\n",
       "      <td>Intact Male</td>\n",
       "      <td>5 months</td>\n",
       "      <td>Rabbit Sh Mix</td>\n",
       "      <td>White/Tricolor</td>\n",
       "    </tr>\n",
       "    <tr>\n",
       "      <th>2</th>\n",
       "      <td>A788078</td>\n",
       "      <td>Romeo</td>\n",
       "      <td>05/04/2019 06:25:00 PM</td>\n",
       "      <td>05/04/2019 06:25:00 PM</td>\n",
       "      <td>11/04/2007</td>\n",
       "      <td>Return to Owner</td>\n",
       "      <td>NaN</td>\n",
       "      <td>Dog</td>\n",
       "      <td>Neutered Male</td>\n",
       "      <td>11 years</td>\n",
       "      <td>Dachshund Mix</td>\n",
       "      <td>Tricolor/Black</td>\n",
       "    </tr>\n",
       "    <tr>\n",
       "      <th>3</th>\n",
       "      <td>A687107</td>\n",
       "      <td>Montopolis</td>\n",
       "      <td>05/04/2019 06:14:00 PM</td>\n",
       "      <td>05/04/2019 06:14:00 PM</td>\n",
       "      <td>12/01/2013</td>\n",
       "      <td>Rto-Adopt</td>\n",
       "      <td>NaN</td>\n",
       "      <td>Dog</td>\n",
       "      <td>Neutered Male</td>\n",
       "      <td>5 years</td>\n",
       "      <td>Rhod Ridgeback</td>\n",
       "      <td>Red/Brown</td>\n",
       "    </tr>\n",
       "    <tr>\n",
       "      <th>4</th>\n",
       "      <td>A793449</td>\n",
       "      <td>Bailey</td>\n",
       "      <td>05/04/2019 06:10:00 PM</td>\n",
       "      <td>05/04/2019 06:10:00 PM</td>\n",
       "      <td>04/25/2018</td>\n",
       "      <td>Adoption</td>\n",
       "      <td>NaN</td>\n",
       "      <td>Dog</td>\n",
       "      <td>Spayed Female</td>\n",
       "      <td>1 year</td>\n",
       "      <td>Basset Hound Mix</td>\n",
       "      <td>White/Brown</td>\n",
       "    </tr>\n",
       "  </tbody>\n",
       "</table>\n",
       "</div>"
      ],
      "text/plain": [
       "  Animal ID        Name                DateTime               MonthYear  \\\n",
       "0   A793602         NaN  05/04/2019 07:16:00 PM  05/04/2019 07:16:00 PM   \n",
       "1   A794180         NaN  05/04/2019 06:27:00 PM  05/04/2019 06:27:00 PM   \n",
       "2   A788078       Romeo  05/04/2019 06:25:00 PM  05/04/2019 06:25:00 PM   \n",
       "3   A687107  Montopolis  05/04/2019 06:14:00 PM  05/04/2019 06:14:00 PM   \n",
       "4   A793449      Bailey  05/04/2019 06:10:00 PM  05/04/2019 06:10:00 PM   \n",
       "\n",
       "  Date of Birth     Outcome Type Outcome Subtype Animal Type Sex upon Outcome  \\\n",
       "0    04/27/2018         Adoption             NaN         Dog    Neutered Male   \n",
       "1    11/04/2018         Transfer         Partner       Other      Intact Male   \n",
       "2    11/04/2007  Return to Owner             NaN         Dog    Neutered Male   \n",
       "3    12/01/2013        Rto-Adopt             NaN         Dog    Neutered Male   \n",
       "4    04/25/2018         Adoption             NaN         Dog    Spayed Female   \n",
       "\n",
       "  Age upon Outcome                    Breed           Color  \n",
       "0           1 year  Chihuahua Shorthair Mix           Cream  \n",
       "1         5 months            Rabbit Sh Mix  White/Tricolor  \n",
       "2         11 years            Dachshund Mix  Tricolor/Black  \n",
       "3          5 years           Rhod Ridgeback       Red/Brown  \n",
       "4           1 year         Basset Hound Mix     White/Brown  "
      ]
     },
     "execution_count": 3,
     "metadata": {},
     "output_type": "execute_result"
    }
   ],
   "source": [
    "df_o = pd.read_csv('Austin_Animal_Center_Outcomes.csv') #Outcomes\n",
    "df_o.head()"
   ]
  },
  {
   "cell_type": "code",
   "execution_count": 4,
   "metadata": {},
   "outputs": [],
   "source": [
    "for i in range(len(df_o)):\n",
    "    df_o['DateTime'][i] = dt.strptime(df_o['DateTime'][i], \"%m/%d/%Y %H:%M:%S %p\") # Convert str to datetime\n",
    "for i in range(len(df_i)):\n",
    "    df_i['DateTime'][i] = dt.strptime(df_i['DateTime'][i], \"%m/%d/%Y %H:%M:%S %p\") # Convert str to datetime"
   ]
  },
  {
   "cell_type": "code",
   "execution_count": 5,
   "metadata": {},
   "outputs": [],
   "source": [
    "# Drop some columns\n",
    "df_i = df_i.drop(columns=['Name', 'MonthYear', 'Found Location', 'Intake Type'])\n",
    "df_o = df_o.drop(columns=['Name', 'MonthYear', 'Date of Birth'])"
   ]
  },
  {
   "cell_type": "code",
   "execution_count": 7,
   "metadata": {},
   "outputs": [
    {
     "data": {
      "text/html": [
       "<div>\n",
       "<style scoped>\n",
       "    .dataframe tbody tr th:only-of-type {\n",
       "        vertical-align: middle;\n",
       "    }\n",
       "\n",
       "    .dataframe tbody tr th {\n",
       "        vertical-align: top;\n",
       "    }\n",
       "\n",
       "    .dataframe thead th {\n",
       "        text-align: right;\n",
       "    }\n",
       "</style>\n",
       "<table border=\"1\" class=\"dataframe\">\n",
       "  <thead>\n",
       "    <tr style=\"text-align: right;\">\n",
       "      <th></th>\n",
       "      <th>Animal ID</th>\n",
       "      <th>DateTime_x</th>\n",
       "      <th>Intake Condition</th>\n",
       "      <th>Animal Type_x</th>\n",
       "      <th>Sex upon Intake</th>\n",
       "      <th>Age upon Intake</th>\n",
       "      <th>Breed_x</th>\n",
       "      <th>Color_x</th>\n",
       "      <th>DateTime_y</th>\n",
       "      <th>Outcome Type</th>\n",
       "      <th>Outcome Subtype</th>\n",
       "      <th>Animal Type_y</th>\n",
       "      <th>Sex upon Outcome</th>\n",
       "      <th>Age upon Outcome</th>\n",
       "      <th>Breed_y</th>\n",
       "      <th>Color_y</th>\n",
       "    </tr>\n",
       "  </thead>\n",
       "  <tbody>\n",
       "    <tr>\n",
       "      <th>0</th>\n",
       "      <td>A793374</td>\n",
       "      <td>2019-05-04 05:00:00</td>\n",
       "      <td>Normal</td>\n",
       "      <td>Dog</td>\n",
       "      <td>Spayed Female</td>\n",
       "      <td>2 years</td>\n",
       "      <td>Chihuahua Shorthair Mix</td>\n",
       "      <td>White</td>\n",
       "      <td>2019-04-28 09:50:00</td>\n",
       "      <td>Adoption</td>\n",
       "      <td>NaN</td>\n",
       "      <td>Dog</td>\n",
       "      <td>Spayed Female</td>\n",
       "      <td>2 years</td>\n",
       "      <td>Chihuahua Shorthair Mix</td>\n",
       "      <td>White</td>\n",
       "    </tr>\n",
       "    <tr>\n",
       "      <th>1</th>\n",
       "      <td>A793374</td>\n",
       "      <td>2019-04-24 11:01:00</td>\n",
       "      <td>Normal</td>\n",
       "      <td>Dog</td>\n",
       "      <td>Spayed Female</td>\n",
       "      <td>2 years</td>\n",
       "      <td>Chihuahua Shorthair Mix</td>\n",
       "      <td>White</td>\n",
       "      <td>2019-04-28 09:50:00</td>\n",
       "      <td>Adoption</td>\n",
       "      <td>NaN</td>\n",
       "      <td>Dog</td>\n",
       "      <td>Spayed Female</td>\n",
       "      <td>2 years</td>\n",
       "      <td>Chihuahua Shorthair Mix</td>\n",
       "      <td>White</td>\n",
       "    </tr>\n",
       "    <tr>\n",
       "      <th>2</th>\n",
       "      <td>A623261</td>\n",
       "      <td>2019-05-04 04:33:00</td>\n",
       "      <td>Normal</td>\n",
       "      <td>Dog</td>\n",
       "      <td>Spayed Female</td>\n",
       "      <td>9 years</td>\n",
       "      <td>Pit Bull Mix</td>\n",
       "      <td>Black/White</td>\n",
       "      <td>2019-03-31 04:10:00</td>\n",
       "      <td>Adoption</td>\n",
       "      <td>NaN</td>\n",
       "      <td>Dog</td>\n",
       "      <td>Spayed Female</td>\n",
       "      <td>9 years</td>\n",
       "      <td>Pit Bull Mix</td>\n",
       "      <td>Black/White</td>\n",
       "    </tr>\n",
       "    <tr>\n",
       "      <th>3</th>\n",
       "      <td>A623261</td>\n",
       "      <td>2019-02-22 12:35:00</td>\n",
       "      <td>Normal</td>\n",
       "      <td>Dog</td>\n",
       "      <td>Spayed Female</td>\n",
       "      <td>9 years</td>\n",
       "      <td>Pit Bull Mix</td>\n",
       "      <td>Black/White</td>\n",
       "      <td>2019-03-31 04:10:00</td>\n",
       "      <td>Adoption</td>\n",
       "      <td>NaN</td>\n",
       "      <td>Dog</td>\n",
       "      <td>Spayed Female</td>\n",
       "      <td>9 years</td>\n",
       "      <td>Pit Bull Mix</td>\n",
       "      <td>Black/White</td>\n",
       "    </tr>\n",
       "    <tr>\n",
       "      <th>4</th>\n",
       "      <td>A790784</td>\n",
       "      <td>2019-05-04 04:25:00</td>\n",
       "      <td>Normal</td>\n",
       "      <td>Dog</td>\n",
       "      <td>Spayed Female</td>\n",
       "      <td>1 year</td>\n",
       "      <td>Keeshond Mix</td>\n",
       "      <td>Black/Brown</td>\n",
       "      <td>2019-03-21 07:03:00</td>\n",
       "      <td>Adoption</td>\n",
       "      <td>NaN</td>\n",
       "      <td>Dog</td>\n",
       "      <td>Spayed Female</td>\n",
       "      <td>1 year</td>\n",
       "      <td>Keeshond Mix</td>\n",
       "      <td>Black/Brown</td>\n",
       "    </tr>\n",
       "  </tbody>\n",
       "</table>\n",
       "</div>"
      ],
      "text/plain": [
       "  Animal ID           DateTime_x Intake Condition Animal Type_x  \\\n",
       "0   A793374  2019-05-04 05:00:00           Normal           Dog   \n",
       "1   A793374  2019-04-24 11:01:00           Normal           Dog   \n",
       "2   A623261  2019-05-04 04:33:00           Normal           Dog   \n",
       "3   A623261  2019-02-22 12:35:00           Normal           Dog   \n",
       "4   A790784  2019-05-04 04:25:00           Normal           Dog   \n",
       "\n",
       "  Sex upon Intake Age upon Intake                  Breed_x      Color_x  \\\n",
       "0   Spayed Female         2 years  Chihuahua Shorthair Mix        White   \n",
       "1   Spayed Female         2 years  Chihuahua Shorthair Mix        White   \n",
       "2   Spayed Female         9 years             Pit Bull Mix  Black/White   \n",
       "3   Spayed Female         9 years             Pit Bull Mix  Black/White   \n",
       "4   Spayed Female          1 year             Keeshond Mix  Black/Brown   \n",
       "\n",
       "            DateTime_y Outcome Type Outcome Subtype Animal Type_y  \\\n",
       "0  2019-04-28 09:50:00     Adoption             NaN           Dog   \n",
       "1  2019-04-28 09:50:00     Adoption             NaN           Dog   \n",
       "2  2019-03-31 04:10:00     Adoption             NaN           Dog   \n",
       "3  2019-03-31 04:10:00     Adoption             NaN           Dog   \n",
       "4  2019-03-21 07:03:00     Adoption             NaN           Dog   \n",
       "\n",
       "  Sex upon Outcome Age upon Outcome                  Breed_y      Color_y  \n",
       "0    Spayed Female          2 years  Chihuahua Shorthair Mix        White  \n",
       "1    Spayed Female          2 years  Chihuahua Shorthair Mix        White  \n",
       "2    Spayed Female          9 years             Pit Bull Mix  Black/White  \n",
       "3    Spayed Female          9 years             Pit Bull Mix  Black/White  \n",
       "4    Spayed Female           1 year             Keeshond Mix  Black/Brown  "
      ]
     },
     "execution_count": 7,
     "metadata": {},
     "output_type": "execute_result"
    }
   ],
   "source": [
    "#Merge dataframes\n",
    "df_io = pd.merge(df_i, df_o, how='inner', left_on='Animal ID', right_on='Animal ID')\n",
    "df_io.head()"
   ]
  },
  {
   "cell_type": "markdown",
   "metadata": {},
   "source": [
    "Some animals come back to the center several times, so IDs are duplicated. Need to get rid of them."
   ]
  },
  {
   "cell_type": "code",
   "execution_count": 10,
   "metadata": {},
   "outputs": [],
   "source": [
    "df_io['Period']= df_io['DateTime_y'] - df_io['DateTime_x']"
   ]
  },
  {
   "cell_type": "code",
   "execution_count": 13,
   "metadata": {},
   "outputs": [],
   "source": [
    "idx = df_io.groupby(['Animal ID'])['Period'].transform(max) == df_io['Period'] # indices survive only if period is max for ID\n",
    "df_io = df_io[idx]\n",
    "df_io = df_io.drop(columns=['Breed_x','Color_x', 'Animal Type_x'])"
   ]
  },
  {
   "cell_type": "markdown",
   "metadata": {},
   "source": [
    "Find an average period until adoption for each animals."
   ]
  },
  {
   "cell_type": "code",
   "execution_count": 14,
   "metadata": {},
   "outputs": [
    {
     "data": {
      "text/plain": [
       "Animal Type_y\n",
       "Bird          8.0\n",
       "Cat          30.0\n",
       "Dog          54.0\n",
       "Livestock    73.0\n",
       "Other         4.0\n",
       "Name: Period, dtype: float64"
      ]
     },
     "execution_count": 14,
     "metadata": {},
     "output_type": "execute_result"
    }
   ],
   "source": [
    "P_animal = df_io.groupby(['Animal Type_y'])['Period'].mean(numeric_only=False)\n",
    "P_animal.astype('timedelta64[D]') #Data converted to total days (dtype:float64)"
   ]
  },
  {
   "cell_type": "code",
   "execution_count": 15,
   "metadata": {},
   "outputs": [
    {
     "data": {
      "text/plain": [
       "Text(0.5,1,'Period until Adoption')"
      ]
     },
     "execution_count": 15,
     "metadata": {},
     "output_type": "execute_result"
    },
    {
     "data": {
      "image/png": "[encoded data removed]",
      "text/plain": [
       "<Figure size 864x360 with 1 Axes>"
      ]
     },
     "metadata": {},
     "output_type": "display_data"
    }
   ],
   "source": [
    "plt.figure(figsize=(12,5))\n",
    "\n",
    "P_animal.astype('timedelta64[D]').plot(kind = 'bar')\n",
    "plt.xlabel('Animal Type')\n",
    "plt.ylabel('Days')\n",
    "#plt.xticks(np.arange(5), ('Bird', 'Cat', 'Dog', 'Livestock', 'Other'))\n",
    "plt.title('Period until Adoption')"
   ]
  },
  {
   "cell_type": "markdown",
   "metadata": {},
   "source": [
    "Show whether breed of cats or dogs effects on the period until adoption."
   ]
  },
  {
   "cell_type": "code",
   "execution_count": 16,
   "metadata": {},
   "outputs": [
    {
     "data": {
      "text/html": [
       "<div>\n",
       "<style scoped>\n",
       "    .dataframe tbody tr th:only-of-type {\n",
       "        vertical-align: middle;\n",
       "    }\n",
       "\n",
       "    .dataframe tbody tr th {\n",
       "        vertical-align: top;\n",
       "    }\n",
       "\n",
       "    .dataframe thead th {\n",
       "        text-align: right;\n",
       "    }\n",
       "</style>\n",
       "<table border=\"1\" class=\"dataframe\">\n",
       "  <thead>\n",
       "    <tr style=\"text-align: right;\">\n",
       "      <th></th>\n",
       "      <th>Animal ID</th>\n",
       "      <th>DateTime_x</th>\n",
       "      <th>Intake Condition</th>\n",
       "      <th>Sex upon Intake</th>\n",
       "      <th>Age upon Intake</th>\n",
       "      <th>DateTime_y</th>\n",
       "      <th>Outcome Type</th>\n",
       "      <th>Outcome Subtype</th>\n",
       "      <th>Animal Type_y</th>\n",
       "      <th>Sex upon Outcome</th>\n",
       "      <th>Age upon Outcome</th>\n",
       "      <th>Breed_y</th>\n",
       "      <th>Color_y</th>\n",
       "      <th>Period</th>\n",
       "    </tr>\n",
       "  </thead>\n",
       "  <tbody>\n",
       "    <tr>\n",
       "      <th>24</th>\n",
       "      <td>A756291</td>\n",
       "      <td>2017-08-17 11:45:00</td>\n",
       "      <td>Normal</td>\n",
       "      <td>Intact Female</td>\n",
       "      <td>1 month</td>\n",
       "      <td>2017-08-22 12:30:00</td>\n",
       "      <td>Transfer</td>\n",
       "      <td>Partner</td>\n",
       "      <td>Cat</td>\n",
       "      <td>Intact Female</td>\n",
       "      <td>2 months</td>\n",
       "      <td>Domestic Shorthair Mix</td>\n",
       "      <td>Brown Tabby</td>\n",
       "      <td>5 days 00:45:00</td>\n",
       "    </tr>\n",
       "    <tr>\n",
       "      <th>36</th>\n",
       "      <td>A794141</td>\n",
       "      <td>2019-05-04 12:20:00</td>\n",
       "      <td>Normal</td>\n",
       "      <td>Unknown</td>\n",
       "      <td>2 days</td>\n",
       "      <td>2019-05-04 01:00:00</td>\n",
       "      <td>Transfer</td>\n",
       "      <td>Partner</td>\n",
       "      <td>Cat</td>\n",
       "      <td>Unknown</td>\n",
       "      <td>2 days</td>\n",
       "      <td>Domestic Shorthair Mix</td>\n",
       "      <td>Blue</td>\n",
       "      <td>-1 days +12:40:00</td>\n",
       "    </tr>\n",
       "    <tr>\n",
       "      <th>37</th>\n",
       "      <td>A794140</td>\n",
       "      <td>2019-05-04 12:20:00</td>\n",
       "      <td>Normal</td>\n",
       "      <td>Unknown</td>\n",
       "      <td>2 days</td>\n",
       "      <td>2019-05-04 01:00:00</td>\n",
       "      <td>Transfer</td>\n",
       "      <td>Partner</td>\n",
       "      <td>Cat</td>\n",
       "      <td>Unknown</td>\n",
       "      <td>2 days</td>\n",
       "      <td>Domestic Shorthair Mix</td>\n",
       "      <td>Black</td>\n",
       "      <td>-1 days +12:40:00</td>\n",
       "    </tr>\n",
       "    <tr>\n",
       "      <th>38</th>\n",
       "      <td>A794139</td>\n",
       "      <td>2019-05-04 12:20:00</td>\n",
       "      <td>Normal</td>\n",
       "      <td>Unknown</td>\n",
       "      <td>2 days</td>\n",
       "      <td>2019-05-04 01:00:00</td>\n",
       "      <td>Transfer</td>\n",
       "      <td>Partner</td>\n",
       "      <td>Cat</td>\n",
       "      <td>Unknown</td>\n",
       "      <td>2 days</td>\n",
       "      <td>Domestic Shorthair Mix</td>\n",
       "      <td>Black</td>\n",
       "      <td>-1 days +12:40:00</td>\n",
       "    </tr>\n",
       "    <tr>\n",
       "      <th>39</th>\n",
       "      <td>A794138</td>\n",
       "      <td>2019-05-04 12:18:00</td>\n",
       "      <td>Normal</td>\n",
       "      <td>Unknown</td>\n",
       "      <td>3 days</td>\n",
       "      <td>2019-05-04 12:59:00</td>\n",
       "      <td>Transfer</td>\n",
       "      <td>Partner</td>\n",
       "      <td>Cat</td>\n",
       "      <td>Unknown</td>\n",
       "      <td>3 days</td>\n",
       "      <td>Domestic Shorthair</td>\n",
       "      <td>Black</td>\n",
       "      <td>0 days 00:41:00</td>\n",
       "    </tr>\n",
       "  </tbody>\n",
       "</table>\n",
       "</div>"
      ],
      "text/plain": [
       "   Animal ID           DateTime_x Intake Condition Sex upon Intake  \\\n",
       "24   A756291  2017-08-17 11:45:00           Normal   Intact Female   \n",
       "36   A794141  2019-05-04 12:20:00           Normal         Unknown   \n",
       "37   A794140  2019-05-04 12:20:00           Normal         Unknown   \n",
       "38   A794139  2019-05-04 12:20:00           Normal         Unknown   \n",
       "39   A794138  2019-05-04 12:18:00           Normal         Unknown   \n",
       "\n",
       "   Age upon Intake           DateTime_y Outcome Type Outcome Subtype  \\\n",
       "24         1 month  2017-08-22 12:30:00     Transfer         Partner   \n",
       "36          2 days  2019-05-04 01:00:00     Transfer         Partner   \n",
       "37          2 days  2019-05-04 01:00:00     Transfer         Partner   \n",
       "38          2 days  2019-05-04 01:00:00     Transfer         Partner   \n",
       "39          3 days  2019-05-04 12:59:00     Transfer         Partner   \n",
       "\n",
       "   Animal Type_y Sex upon Outcome Age upon Outcome                 Breed_y  \\\n",
       "24           Cat    Intact Female         2 months  Domestic Shorthair Mix   \n",
       "36           Cat          Unknown           2 days  Domestic Shorthair Mix   \n",
       "37           Cat          Unknown           2 days  Domestic Shorthair Mix   \n",
       "38           Cat          Unknown           2 days  Domestic Shorthair Mix   \n",
       "39           Cat          Unknown           3 days      Domestic Shorthair   \n",
       "\n",
       "        Color_y            Period  \n",
       "24  Brown Tabby   5 days 00:45:00  \n",
       "36         Blue -1 days +12:40:00  \n",
       "37        Black -1 days +12:40:00  \n",
       "38        Black -1 days +12:40:00  \n",
       "39        Black   0 days 00:41:00  "
      ]
     },
     "execution_count": 16,
     "metadata": {},
     "output_type": "execute_result"
    }
   ],
   "source": [
    "df_cat = df_io[df_io['Animal Type_y'] == 'Cat']\n",
    "df_cat.head()"
   ]
  },
  {
   "cell_type": "code",
   "execution_count": 18,
   "metadata": {},
   "outputs": [
    {
     "data": {
      "text/html": [
       "<div>\n",
       "<style scoped>\n",
       "    .dataframe tbody tr th:only-of-type {\n",
       "        vertical-align: middle;\n",
       "    }\n",
       "\n",
       "    .dataframe tbody tr th {\n",
       "        vertical-align: top;\n",
       "    }\n",
       "\n",
       "    .dataframe thead th {\n",
       "        text-align: right;\n",
       "    }\n",
       "</style>\n",
       "<table border=\"1\" class=\"dataframe\">\n",
       "  <thead>\n",
       "    <tr style=\"text-align: right;\">\n",
       "      <th></th>\n",
       "      <th>Animal ID</th>\n",
       "      <th>DateTime_x</th>\n",
       "      <th>Intake Condition</th>\n",
       "      <th>Sex upon Intake</th>\n",
       "      <th>Age upon Intake</th>\n",
       "      <th>DateTime_y</th>\n",
       "      <th>Outcome Type</th>\n",
       "      <th>Outcome Subtype</th>\n",
       "      <th>Animal Type_y</th>\n",
       "      <th>Sex upon Outcome</th>\n",
       "      <th>Age upon Outcome</th>\n",
       "      <th>Breed_y</th>\n",
       "      <th>Color_y</th>\n",
       "      <th>Period</th>\n",
       "    </tr>\n",
       "  </thead>\n",
       "  <tbody>\n",
       "    <tr>\n",
       "      <th>1</th>\n",
       "      <td>A793374</td>\n",
       "      <td>2019-04-24 11:01:00</td>\n",
       "      <td>Normal</td>\n",
       "      <td>Spayed Female</td>\n",
       "      <td>2 years</td>\n",
       "      <td>2019-04-28 09:50:00</td>\n",
       "      <td>Adoption</td>\n",
       "      <td>NaN</td>\n",
       "      <td>Dog</td>\n",
       "      <td>Spayed Female</td>\n",
       "      <td>2 years</td>\n",
       "      <td>Chihuahua Shorthair Mix</td>\n",
       "      <td>White</td>\n",
       "      <td>3 days 22:49:00</td>\n",
       "    </tr>\n",
       "    <tr>\n",
       "      <th>3</th>\n",
       "      <td>A623261</td>\n",
       "      <td>2019-02-22 12:35:00</td>\n",
       "      <td>Normal</td>\n",
       "      <td>Spayed Female</td>\n",
       "      <td>9 years</td>\n",
       "      <td>2019-03-31 04:10:00</td>\n",
       "      <td>Adoption</td>\n",
       "      <td>NaN</td>\n",
       "      <td>Dog</td>\n",
       "      <td>Spayed Female</td>\n",
       "      <td>9 years</td>\n",
       "      <td>Pit Bull Mix</td>\n",
       "      <td>Black/White</td>\n",
       "      <td>36 days 15:35:00</td>\n",
       "    </tr>\n",
       "    <tr>\n",
       "      <th>5</th>\n",
       "      <td>A790784</td>\n",
       "      <td>2019-03-16 01:27:00</td>\n",
       "      <td>Normal</td>\n",
       "      <td>Intact Female</td>\n",
       "      <td>1 year</td>\n",
       "      <td>2019-03-21 07:03:00</td>\n",
       "      <td>Adoption</td>\n",
       "      <td>NaN</td>\n",
       "      <td>Dog</td>\n",
       "      <td>Spayed Female</td>\n",
       "      <td>1 year</td>\n",
       "      <td>Keeshond Mix</td>\n",
       "      <td>Black/Brown</td>\n",
       "      <td>5 days 05:36:00</td>\n",
       "    </tr>\n",
       "    <tr>\n",
       "      <th>6</th>\n",
       "      <td>A794184</td>\n",
       "      <td>2019-05-04 04:13:00</td>\n",
       "      <td>Normal</td>\n",
       "      <td>Unknown</td>\n",
       "      <td>0 years</td>\n",
       "      <td>2019-05-04 05:41:00</td>\n",
       "      <td>Transfer</td>\n",
       "      <td>Partner</td>\n",
       "      <td>Dog</td>\n",
       "      <td>Unknown</td>\n",
       "      <td>0 years</td>\n",
       "      <td>Pit Bull Mix</td>\n",
       "      <td>White</td>\n",
       "      <td>0 days 01:28:00</td>\n",
       "    </tr>\n",
       "    <tr>\n",
       "      <th>7</th>\n",
       "      <td>A794186</td>\n",
       "      <td>2019-05-04 04:13:00</td>\n",
       "      <td>Normal</td>\n",
       "      <td>Unknown</td>\n",
       "      <td>0 years</td>\n",
       "      <td>2019-05-04 05:42:00</td>\n",
       "      <td>Transfer</td>\n",
       "      <td>Partner</td>\n",
       "      <td>Dog</td>\n",
       "      <td>Unknown</td>\n",
       "      <td>0 years</td>\n",
       "      <td>Pit Bull Mix</td>\n",
       "      <td>Brown/White</td>\n",
       "      <td>0 days 01:29:00</td>\n",
       "    </tr>\n",
       "  </tbody>\n",
       "</table>\n",
       "</div>"
      ],
      "text/plain": [
       "  Animal ID           DateTime_x Intake Condition Sex upon Intake  \\\n",
       "1   A793374  2019-04-24 11:01:00           Normal   Spayed Female   \n",
       "3   A623261  2019-02-22 12:35:00           Normal   Spayed Female   \n",
       "5   A790784  2019-03-16 01:27:00           Normal   Intact Female   \n",
       "6   A794184  2019-05-04 04:13:00           Normal         Unknown   \n",
       "7   A794186  2019-05-04 04:13:00           Normal         Unknown   \n",
       "\n",
       "  Age upon Intake           DateTime_y Outcome Type Outcome Subtype  \\\n",
       "1         2 years  2019-04-28 09:50:00     Adoption             NaN   \n",
       "3         9 years  2019-03-31 04:10:00     Adoption             NaN   \n",
       "5          1 year  2019-03-21 07:03:00     Adoption             NaN   \n",
       "6         0 years  2019-05-04 05:41:00     Transfer         Partner   \n",
       "7         0 years  2019-05-04 05:42:00     Transfer         Partner   \n",
       "\n",
       "  Animal Type_y Sex upon Outcome Age upon Outcome                  Breed_y  \\\n",
       "1           Dog    Spayed Female          2 years  Chihuahua Shorthair Mix   \n",
       "3           Dog    Spayed Female          9 years             Pit Bull Mix   \n",
       "5           Dog    Spayed Female           1 year             Keeshond Mix   \n",
       "6           Dog          Unknown          0 years             Pit Bull Mix   \n",
       "7           Dog          Unknown          0 years             Pit Bull Mix   \n",
       "\n",
       "       Color_y           Period  \n",
       "1        White  3 days 22:49:00  \n",
       "3  Black/White 36 days 15:35:00  \n",
       "5  Black/Brown  5 days 05:36:00  \n",
       "6        White  0 days 01:28:00  \n",
       "7  Brown/White  0 days 01:29:00  "
      ]
     },
     "execution_count": 18,
     "metadata": {},
     "output_type": "execute_result"
    }
   ],
   "source": [
    "df_dog = df_io[df_io['Animal Type_y'] == 'Dog']\n",
    "df_dog.head()"
   ]
  },
  {
   "cell_type": "code",
   "execution_count": 19,
   "metadata": {},
   "outputs": [
    {
     "data": {
      "text/plain": [
       "Timedelta('30 days 02:52:04.569312')"
      ]
     },
     "execution_count": 19,
     "metadata": {},
     "output_type": "execute_result"
    }
   ],
   "source": [
    "df_cat_m = df_cat[df_cat['Breed_y'].str.contains('Mix')] #Mix cats\n",
    "df_cat_mn = df_cat[~df_cat['Breed_y'].str.contains('Mix')] #Non-mix cats\n",
    "P_cat_m = df_cat_m['Period'].mean(numeric_only=False) #average period for mixed cats\n",
    "P_cat_m"
   ]
  },
  {
   "cell_type": "code",
   "execution_count": 20,
   "metadata": {},
   "outputs": [
    {
     "data": {
      "text/plain": [
       "Timedelta('33 days 22:26:32.112676')"
      ]
     },
     "execution_count": 20,
     "metadata": {},
     "output_type": "execute_result"
    }
   ],
   "source": [
    "P_cat_mn = df_cat_mn['Period'].mean(numeric_only=False) #average period for non-mixed cats\n",
    "P_cat_mn"
   ]
  },
  {
   "cell_type": "code",
   "execution_count": 21,
   "metadata": {},
   "outputs": [
    {
     "data": {
      "text/plain": [
       "Timedelta('53 days 06:31:56.980121')"
      ]
     },
     "execution_count": 21,
     "metadata": {},
     "output_type": "execute_result"
    }
   ],
   "source": [
    "df_dog_m = df_dog[df_dog['Breed_y'].str.contains('Mix')] #Mix dogs\n",
    "df_dog_mn = df_dog[~df_dog['Breed_y'].str.contains('Mix')] #Mix dogs\n",
    "P_dog_m = df_dog_m['Period'].mean(numeric_only=False) #average period for mixed dogs\n",
    "P_dog_m"
   ]
  },
  {
   "cell_type": "code",
   "execution_count": 22,
   "metadata": {},
   "outputs": [
    {
     "data": {
      "text/plain": [
       "Timedelta('56 days 16:37:47.191256')"
      ]
     },
     "execution_count": 22,
     "metadata": {},
     "output_type": "execute_result"
    }
   ],
   "source": [
    "P_dog_mn = df_dog_mn['Period'].mean(numeric_only=False) #average period for non-mixed dogs\n",
    "P_dog_mn"
   ]
  },
  {
   "cell_type": "markdown",
   "metadata": {},
   "source": [
    "Show whether Neutralization surgery effect on period until adoption."
   ]
  },
  {
   "cell_type": "code",
   "execution_count": 24,
   "metadata": {},
   "outputs": [],
   "source": [
    "df_cat_s = df_cat[~df_cat['Sex upon Outcome'].str.contains('Intact')] #neutered, spayed cats\n",
    "df_cat_ns = df_cat[df_cat['Sex upon Outcome'].str.contains('Intact')] #Intact cats"
   ]
  },
  {
   "cell_type": "code",
   "execution_count": 25,
   "metadata": {},
   "outputs": [
    {
     "data": {
      "text/plain": [
       "Timedelta('42 days 01:00:07.393646')"
      ]
     },
     "execution_count": 25,
     "metadata": {},
     "output_type": "execute_result"
    }
   ],
   "source": [
    "P_cat_s = df_cat_s['Period'].mean(numeric_only=False) #average period for neuterd cats\n",
    "P_cat_s"
   ]
  },
  {
   "cell_type": "code",
   "execution_count": 26,
   "metadata": {},
   "outputs": [
    {
     "data": {
      "text/plain": [
       "Timedelta('6 days 03:56:00.757164')"
      ]
     },
     "execution_count": 26,
     "metadata": {},
     "output_type": "execute_result"
    }
   ],
   "source": [
    "P_cat_ns = df_cat_ns['Period'].mean(numeric_only=False) #average period for intact cats\n",
    "P_cat_ns"
   ]
  },
  {
   "cell_type": "code",
   "execution_count": 27,
   "metadata": {},
   "outputs": [],
   "source": [
    "df_dog_s = df_dog[~df_dog['Sex upon Outcome'].str.contains('Intact', na=False)] #neutered, spayed dogs\n",
    "df_dog_ns = df_dog[df_dog['Sex upon Outcome'].str.contains('Intact', na=False)] #Intact dogs"
   ]
  },
  {
   "cell_type": "code",
   "execution_count": 28,
   "metadata": {},
   "outputs": [
    {
     "data": {
      "text/plain": [
       "Timedelta('64 days 06:23:20.703749')"
      ]
     },
     "execution_count": 28,
     "metadata": {},
     "output_type": "execute_result"
    }
   ],
   "source": [
    "P_dog_s = df_dog_s['Period'].mean(numeric_only=False) #average period for neutered cats\n",
    "P_dog_s"
   ]
  },
  {
   "cell_type": "code",
   "execution_count": 29,
   "metadata": {},
   "outputs": [
    {
     "data": {
      "text/plain": [
       "Timedelta('18 days 08:53:50.692660')"
      ]
     },
     "execution_count": 29,
     "metadata": {},
     "output_type": "execute_result"
    }
   ],
   "source": [
    "P_dog_ns = df_dog_ns['Period'].mean(numeric_only=False) #average period for intact cats\n",
    "P_dog_ns"
   ]
  },
  {
   "cell_type": "code",
   "execution_count": 30,
   "metadata": {},
   "outputs": [],
   "source": [
    "data = np.array([42, 6, 64, 18])\n",
    "S = pd.Series(data, index=['Neuterd, Spayed cat', 'Intact cat', 'Neutered, Spayed dog', 'Intact dog'])"
   ]
  },
  {
   "cell_type": "code",
   "execution_count": 31,
   "metadata": {},
   "outputs": [
    {
     "data": {
      "text/plain": [
       "Text(0.5,1,'Period until Adoption')"
      ]
     },
     "execution_count": 31,
     "metadata": {},
     "output_type": "execute_result"
    },
    {
     "data": {
      "image/png": "[encoded data removed]",
      "text/plain": [
       "<Figure size 864x360 with 1 Axes>"
      ]
     },
     "metadata": {},
     "output_type": "display_data"
    }
   ],
   "source": [
    "plt.figure(figsize=(12,5))\n",
    "\n",
    "S.plot(kind = 'bar')\n",
    "plt.ylabel('Days')\n",
    "plt.title('Period until Adoption')"
   ]
  },
  {
   "cell_type": "code",
   "execution_count": null,
   "metadata": {},
   "outputs": [],
   "source": []
  }
 ],
 "metadata": {
  "kernelspec": {
   "display_name": "Python 3",
   "language": "python",
   "name": "python3"
  },
  "language_info": {
   "codemirror_mode": {
    "name": "ipython",
    "version": 3
   },
   "file_extension": ".py",
   "mimetype": "text/x-python",
   "name": "python",
   "nbconvert_exporter": "python",
   "pygments_lexer": "ipython3",
   "version": "3.6.5"
  }
 },
 "nbformat": 4,
 "nbformat_minor": 2
}
